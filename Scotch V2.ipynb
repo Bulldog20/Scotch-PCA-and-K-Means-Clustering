{
 "cells": [
  {
   "cell_type": "code",
   "execution_count": 1,
   "id": "6f25a54f",
   "metadata": {},
   "outputs": [],
   "source": [
    "import pandas as pd\n",
    "import numpy as np\n",
    "import matplotlib.pyplot as plt\n",
    "from sklearn import decomposition\n",
    "import seaborn as sns\n",
    "from sklearn.decomposition import PCA\n",
    "from sklearn.preprocessing import scale"
   ]
  },
  {
   "cell_type": "code",
   "execution_count": 2,
   "id": "70f053e0",
   "metadata": {},
   "outputs": [],
   "source": [
    "data_raw = pd.read_csv('/Users/darryl/Desktop/Data Science Portfolio/Scotch V2/scotch.csv')"
   ]
  },
  {
   "cell_type": "code",
   "execution_count": 3,
   "id": "64e3a483",
   "metadata": {},
   "outputs": [
    {
     "name": "stdout",
     "output_type": "stream",
     "text": [
      "   RowID Distillery  Body  Sweetness  Smoky  Medicinal  Tobacco  Honey  Spicy  \\\n",
      "0      1  Aberfeldy     2          2      2          0        0      2      1   \n",
      "1      2   Aberlour     3          3      1          0        0      4      3   \n",
      "2      3     AnCnoc     1          3      2          0        0      2      0   \n",
      "3      4     Ardbeg     4          1      4          4        0      0      2   \n",
      "4      5    Ardmore     2          2      2          0        0      1      1   \n",
      "\n",
      "   Winey  Nutty  Malty  Fruity  Floral    Postcode  Latitude  Longitude  \n",
      "0      2      2      2       2       2  \\tPH15 2EB    286580     749680  \n",
      "1      2      2      3       3       2  \\tAB38 9PJ    326340     842570  \n",
      "2      0      2      2       3       2   \\tAB5 5LI    352960     839320  \n",
      "3      0      1      2       1       0  \\tPA42 7EB    141560     646220  \n",
      "4      1      2      3       1       1  \\tAB54 4NH    355350     829140  \n"
     ]
    }
   ],
   "source": [
    "print(data_raw.head())"
   ]
  },
  {
   "cell_type": "code",
   "execution_count": 4,
   "id": "6f604aef",
   "metadata": {},
   "outputs": [],
   "source": [
    "data_raw_drop = data_raw.drop(['RowID', 'Postcode', 'Latitude', 'Longitude', 'Distillery'], axis = 1)"
   ]
  },
  {
   "cell_type": "code",
   "execution_count": 5,
   "id": "13a219fc",
   "metadata": {},
   "outputs": [
    {
     "name": "stdout",
     "output_type": "stream",
     "text": [
      "   Body  Sweetness  Smoky  Medicinal  Tobacco  Honey  Spicy  Winey  Nutty  \\\n",
      "0     2          2      2          0        0      2      1      2      2   \n",
      "1     3          3      1          0        0      4      3      2      2   \n",
      "2     1          3      2          0        0      2      0      0      2   \n",
      "3     4          1      4          4        0      0      2      0      1   \n",
      "4     2          2      2          0        0      1      1      1      2   \n",
      "\n",
      "   Malty  Fruity  Floral  \n",
      "0      2       2       2  \n",
      "1      3       3       2  \n",
      "2      2       3       2  \n",
      "3      2       1       0  \n",
      "4      3       1       1  \n"
     ]
    }
   ],
   "source": [
    "print(data_raw_drop.head())"
   ]
  },
  {
   "cell_type": "code",
   "execution_count": 6,
   "id": "0002345f",
   "metadata": {},
   "outputs": [],
   "source": [
    "features = data_raw_drop.iloc[0]"
   ]
  },
  {
   "cell_type": "code",
   "execution_count": 7,
   "id": "c4e3f8ed",
   "metadata": {},
   "outputs": [],
   "source": [
    "data_raw_drop = scale(data_raw_drop)"
   ]
  },
  {
   "cell_type": "code",
   "execution_count": 8,
   "id": "784e0d7e",
   "metadata": {},
   "outputs": [
    {
     "name": "stdout",
     "output_type": "stream",
     "text": [
      "[[-0.07542547 -0.40765084  0.54172898 ...  0.31606376  0.25509887\n",
      "   0.35566418]\n",
      " [ 1.00567291  0.99466805 -0.62298833 ...  1.91497456  1.54559904\n",
      "   0.35566418]\n",
      " [-1.15652385  0.99466805  0.54172898 ...  0.31606376  1.54559904\n",
      "   0.35566418]\n",
      " ...\n",
      " [-2.23762223  0.99466805 -0.62298833 ...  0.31606376 -1.0354013\n",
      "   0.35566418]\n",
      " [-0.07542547 -0.40765084 -0.62298833 ... -1.28284703 -2.32590146\n",
      "  -1.99719114]\n",
      " [-0.07542547  0.99466805 -1.78770563 ...  0.31606376  0.25509887\n",
      "  -0.82076348]]\n"
     ]
    }
   ],
   "source": [
    "print(data_raw_drop)"
   ]
  },
  {
   "cell_type": "code",
   "execution_count": 9,
   "id": "5d893c95",
   "metadata": {},
   "outputs": [
    {
     "data": {
      "text/plain": [
       "PCA(n_components=3)"
      ]
     },
     "execution_count": 9,
     "metadata": {},
     "output_type": "execute_result"
    }
   ],
   "source": [
    "pca = decomposition.PCA(n_components=3)\n",
    "pca.fit(data_raw_drop)"
   ]
  },
  {
   "cell_type": "code",
   "execution_count": 10,
   "id": "08e4cf75",
   "metadata": {},
   "outputs": [],
   "source": [
    "scores = pca.transform(data_raw_drop)"
   ]
  },
  {
   "cell_type": "code",
   "execution_count": 11,
   "id": "b9d0c28d",
   "metadata": {},
   "outputs": [
    {
     "data": {
      "text/html": [
       "<div>\n",
       "<style scoped>\n",
       "    .dataframe tbody tr th:only-of-type {\n",
       "        vertical-align: middle;\n",
       "    }\n",
       "\n",
       "    .dataframe tbody tr th {\n",
       "        vertical-align: top;\n",
       "    }\n",
       "\n",
       "    .dataframe thead th {\n",
       "        text-align: right;\n",
       "    }\n",
       "</style>\n",
       "<table border=\"1\" class=\"dataframe\">\n",
       "  <thead>\n",
       "    <tr style=\"text-align: right;\">\n",
       "      <th></th>\n",
       "      <th>PC1</th>\n",
       "      <th>PC2</th>\n",
       "      <th>PC3</th>\n",
       "    </tr>\n",
       "  </thead>\n",
       "  <tbody>\n",
       "    <tr>\n",
       "      <th>0</th>\n",
       "      <td>-0.655657</td>\n",
       "      <td>1.205646</td>\n",
       "      <td>0.166344</td>\n",
       "    </tr>\n",
       "    <tr>\n",
       "      <th>1</th>\n",
       "      <td>-2.312631</td>\n",
       "      <td>3.747988</td>\n",
       "      <td>-1.366919</td>\n",
       "    </tr>\n",
       "    <tr>\n",
       "      <th>2</th>\n",
       "      <td>-1.602153</td>\n",
       "      <td>-0.664082</td>\n",
       "      <td>0.297205</td>\n",
       "    </tr>\n",
       "    <tr>\n",
       "      <th>3</th>\n",
       "      <td>5.413633</td>\n",
       "      <td>0.244875</td>\n",
       "      <td>-1.210142</td>\n",
       "    </tr>\n",
       "    <tr>\n",
       "      <th>4</th>\n",
       "      <td>0.121649</td>\n",
       "      <td>0.412793</td>\n",
       "      <td>0.304462</td>\n",
       "    </tr>\n",
       "    <tr>\n",
       "      <th>...</th>\n",
       "      <td>...</td>\n",
       "      <td>...</td>\n",
       "      <td>...</td>\n",
       "    </tr>\n",
       "    <tr>\n",
       "      <th>81</th>\n",
       "      <td>-0.742283</td>\n",
       "      <td>-1.867255</td>\n",
       "      <td>-0.447354</td>\n",
       "    </tr>\n",
       "    <tr>\n",
       "      <th>82</th>\n",
       "      <td>0.266400</td>\n",
       "      <td>0.367942</td>\n",
       "      <td>1.014124</td>\n",
       "    </tr>\n",
       "    <tr>\n",
       "      <th>83</th>\n",
       "      <td>-1.652609</td>\n",
       "      <td>-0.839780</td>\n",
       "      <td>0.123563</td>\n",
       "    </tr>\n",
       "    <tr>\n",
       "      <th>84</th>\n",
       "      <td>0.888804</td>\n",
       "      <td>-0.713645</td>\n",
       "      <td>2.996897</td>\n",
       "    </tr>\n",
       "    <tr>\n",
       "      <th>85</th>\n",
       "      <td>0.095250</td>\n",
       "      <td>-0.735940</td>\n",
       "      <td>0.117929</td>\n",
       "    </tr>\n",
       "  </tbody>\n",
       "</table>\n",
       "<p>86 rows × 3 columns</p>\n",
       "</div>"
      ],
      "text/plain": [
       "         PC1       PC2       PC3\n",
       "0  -0.655657  1.205646  0.166344\n",
       "1  -2.312631  3.747988 -1.366919\n",
       "2  -1.602153 -0.664082  0.297205\n",
       "3   5.413633  0.244875 -1.210142\n",
       "4   0.121649  0.412793  0.304462\n",
       "..       ...       ...       ...\n",
       "81 -0.742283 -1.867255 -0.447354\n",
       "82  0.266400  0.367942  1.014124\n",
       "83 -1.652609 -0.839780  0.123563\n",
       "84  0.888804 -0.713645  2.996897\n",
       "85  0.095250 -0.735940  0.117929\n",
       "\n",
       "[86 rows x 3 columns]"
      ]
     },
     "execution_count": 11,
     "metadata": {},
     "output_type": "execute_result"
    }
   ],
   "source": [
    "scores_df = pd.DataFrame(scores, columns=['PC1', 'PC2', 'PC3'])\n",
    "scores_df"
   ]
  },
  {
   "cell_type": "code",
   "execution_count": 12,
   "id": "f4854e63",
   "metadata": {},
   "outputs": [],
   "source": [
    "distillery = data_raw['Distillery']"
   ]
  },
  {
   "cell_type": "code",
   "execution_count": 13,
   "id": "fbcc57f8",
   "metadata": {},
   "outputs": [
    {
     "name": "stdout",
     "output_type": "stream",
     "text": [
      "         PC1       PC2       PC3    Distillery\n",
      "0  -0.655657  1.205646  0.166344     Aberfeldy\n",
      "1  -2.312631  3.747988 -1.366919      Aberlour\n",
      "2  -1.602153 -0.664082  0.297205        AnCnoc\n",
      "3   5.413633  0.244875 -1.210142        Ardbeg\n",
      "4   0.121649  0.412793  0.304462       Ardmore\n",
      "..       ...       ...       ...           ...\n",
      "81 -0.742283 -1.867255 -0.447354     Tobermory\n",
      "82  0.266400  0.367942  1.014124       Tomatin\n",
      "83 -1.652609 -0.839780  0.123563     Tomintoul\n",
      "84  0.888804 -0.713645  2.996897       Tormore\n",
      "85  0.095250 -0.735940  0.117929  Tullibardine\n",
      "\n",
      "[86 rows x 4 columns]\n"
     ]
    }
   ],
   "source": [
    "df_scores = pd.concat([scores_df, distillery], axis=1)\n",
    "print(df_scores)"
   ]
  },
  {
   "cell_type": "code",
   "execution_count": 14,
   "id": "bb17a273",
   "metadata": {},
   "outputs": [
    {
     "data": {
      "text/html": [
       "<div>\n",
       "<style scoped>\n",
       "    .dataframe tbody tr th:only-of-type {\n",
       "        vertical-align: middle;\n",
       "    }\n",
       "\n",
       "    .dataframe tbody tr th {\n",
       "        vertical-align: top;\n",
       "    }\n",
       "\n",
       "    .dataframe thead th {\n",
       "        text-align: right;\n",
       "    }\n",
       "</style>\n",
       "<table border=\"1\" class=\"dataframe\">\n",
       "  <thead>\n",
       "    <tr style=\"text-align: right;\">\n",
       "      <th></th>\n",
       "      <th>PC1</th>\n",
       "      <th>PC2</th>\n",
       "      <th>PC3</th>\n",
       "    </tr>\n",
       "    <tr>\n",
       "      <th>0</th>\n",
       "      <th></th>\n",
       "      <th></th>\n",
       "      <th></th>\n",
       "    </tr>\n",
       "  </thead>\n",
       "  <tbody>\n",
       "    <tr>\n",
       "      <th>2</th>\n",
       "      <td>0.292996</td>\n",
       "      <td>0.482976</td>\n",
       "      <td>0.087838</td>\n",
       "    </tr>\n",
       "    <tr>\n",
       "      <th>2</th>\n",
       "      <td>-0.251049</td>\n",
       "      <td>-0.011578</td>\n",
       "      <td>0.450002</td>\n",
       "    </tr>\n",
       "    <tr>\n",
       "      <th>2</th>\n",
       "      <td>0.464131</td>\n",
       "      <td>0.141070</td>\n",
       "      <td>-0.155765</td>\n",
       "    </tr>\n",
       "    <tr>\n",
       "      <th>0</th>\n",
       "      <td>0.486891</td>\n",
       "      <td>-0.075954</td>\n",
       "      <td>-0.066295</td>\n",
       "    </tr>\n",
       "    <tr>\n",
       "      <th>0</th>\n",
       "      <td>0.308027</td>\n",
       "      <td>-0.048624</td>\n",
       "      <td>-0.045715</td>\n",
       "    </tr>\n",
       "    <tr>\n",
       "      <th>2</th>\n",
       "      <td>-0.248763</td>\n",
       "      <td>0.431355</td>\n",
       "      <td>0.003370</td>\n",
       "    </tr>\n",
       "    <tr>\n",
       "      <th>1</th>\n",
       "      <td>0.054924</td>\n",
       "      <td>0.263284</td>\n",
       "      <td>-0.561638</td>\n",
       "    </tr>\n",
       "    <tr>\n",
       "      <th>2</th>\n",
       "      <td>-0.051674</td>\n",
       "      <td>0.552041</td>\n",
       "      <td>0.264718</td>\n",
       "    </tr>\n",
       "    <tr>\n",
       "      <th>2</th>\n",
       "      <td>-0.068896</td>\n",
       "      <td>0.299018</td>\n",
       "      <td>0.174951</td>\n",
       "    </tr>\n",
       "    <tr>\n",
       "      <th>2</th>\n",
       "      <td>-0.198019</td>\n",
       "      <td>0.195058</td>\n",
       "      <td>-0.284258</td>\n",
       "    </tr>\n",
       "    <tr>\n",
       "      <th>2</th>\n",
       "      <td>-0.246982</td>\n",
       "      <td>0.152469</td>\n",
       "      <td>-0.429478</td>\n",
       "    </tr>\n",
       "    <tr>\n",
       "      <th>2</th>\n",
       "      <td>-0.362268</td>\n",
       "      <td>-0.166510</td>\n",
       "      <td>-0.278656</td>\n",
       "    </tr>\n",
       "  </tbody>\n",
       "</table>\n",
       "</div>"
      ],
      "text/plain": [
       "        PC1       PC2       PC3\n",
       "0                              \n",
       "2  0.292996  0.482976  0.087838\n",
       "2 -0.251049 -0.011578  0.450002\n",
       "2  0.464131  0.141070 -0.155765\n",
       "0  0.486891 -0.075954 -0.066295\n",
       "0  0.308027 -0.048624 -0.045715\n",
       "2 -0.248763  0.431355  0.003370\n",
       "1  0.054924  0.263284 -0.561638\n",
       "2 -0.051674  0.552041  0.264718\n",
       "2 -0.068896  0.299018  0.174951\n",
       "2 -0.198019  0.195058 -0.284258\n",
       "2 -0.246982  0.152469 -0.429478\n",
       "2 -0.362268 -0.166510 -0.278656"
      ]
     },
     "execution_count": 14,
     "metadata": {},
     "output_type": "execute_result"
    }
   ],
   "source": [
    "loadings = pca.components_.T\n",
    "df_loadings = pd.DataFrame(loadings, columns=['PC1', 'PC2','PC3'], index= features)\n",
    "df_loadings"
   ]
  },
  {
   "cell_type": "code",
   "execution_count": 15,
   "id": "159e41fa",
   "metadata": {},
   "outputs": [
    {
     "data": {
      "text/plain": [
       "array([0.26975719, 0.15937839, 0.10024746])"
      ]
     },
     "execution_count": 15,
     "metadata": {},
     "output_type": "execute_result"
    }
   ],
   "source": [
    "explained_variance = pca.explained_variance_ratio_\n",
    "explained_variance"
   ]
  },
  {
   "cell_type": "code",
   "execution_count": 16,
   "id": "3a58a5fe",
   "metadata": {},
   "outputs": [],
   "source": [
    "explained_variance = np.insert(explained_variance, 0, 0)"
   ]
  },
  {
   "cell_type": "code",
   "execution_count": 17,
   "id": "2128150f",
   "metadata": {},
   "outputs": [],
   "source": [
    "cumulative_variance = np.cumsum(np.round(explained_variance, decimals=3))"
   ]
  },
  {
   "cell_type": "code",
   "execution_count": 18,
   "id": "12d850ab",
   "metadata": {},
   "outputs": [],
   "source": [
    "pc_df = pd.DataFrame(['','PC1', 'PC2', 'PC3'], columns=['PC'])\n",
    "explained_variance_df = pd.DataFrame(explained_variance, columns=['Explained Variance'])\n",
    "cumulative_variance_df = pd.DataFrame(cumulative_variance, columns=['Cumulative Variance'])"
   ]
  },
  {
   "cell_type": "code",
   "execution_count": 19,
   "id": "8149e9ac",
   "metadata": {},
   "outputs": [
    {
     "data": {
      "text/html": [
       "<div>\n",
       "<style scoped>\n",
       "    .dataframe tbody tr th:only-of-type {\n",
       "        vertical-align: middle;\n",
       "    }\n",
       "\n",
       "    .dataframe tbody tr th {\n",
       "        vertical-align: top;\n",
       "    }\n",
       "\n",
       "    .dataframe thead th {\n",
       "        text-align: right;\n",
       "    }\n",
       "</style>\n",
       "<table border=\"1\" class=\"dataframe\">\n",
       "  <thead>\n",
       "    <tr style=\"text-align: right;\">\n",
       "      <th></th>\n",
       "      <th>PC</th>\n",
       "      <th>Explained Variance</th>\n",
       "      <th>Cumulative Variance</th>\n",
       "    </tr>\n",
       "  </thead>\n",
       "  <tbody>\n",
       "    <tr>\n",
       "      <th>0</th>\n",
       "      <td></td>\n",
       "      <td>0.000000</td>\n",
       "      <td>0.000</td>\n",
       "    </tr>\n",
       "    <tr>\n",
       "      <th>1</th>\n",
       "      <td>PC1</td>\n",
       "      <td>0.269757</td>\n",
       "      <td>0.270</td>\n",
       "    </tr>\n",
       "    <tr>\n",
       "      <th>2</th>\n",
       "      <td>PC2</td>\n",
       "      <td>0.159378</td>\n",
       "      <td>0.429</td>\n",
       "    </tr>\n",
       "    <tr>\n",
       "      <th>3</th>\n",
       "      <td>PC3</td>\n",
       "      <td>0.100247</td>\n",
       "      <td>0.529</td>\n",
       "    </tr>\n",
       "  </tbody>\n",
       "</table>\n",
       "</div>"
      ],
      "text/plain": [
       "    PC  Explained Variance  Cumulative Variance\n",
       "0                 0.000000                0.000\n",
       "1  PC1            0.269757                0.270\n",
       "2  PC2            0.159378                0.429\n",
       "3  PC3            0.100247                0.529"
      ]
     },
     "execution_count": 19,
     "metadata": {},
     "output_type": "execute_result"
    }
   ],
   "source": [
    "df_explained_variance = pd.concat([pc_df, explained_variance_df, cumulative_variance_df], axis=1)\n",
    "df_explained_variance"
   ]
  },
  {
   "cell_type": "code",
   "execution_count": 20,
   "id": "aba7079b",
   "metadata": {},
   "outputs": [
    {
     "data": {
      "image/png": "[encoded data removed]",
      "text/plain": [
       "<Figure size 432x288 with 1 Axes>"
      ]
     },
     "metadata": {
      "needs_background": "light"
     },
     "output_type": "display_data"
    }
   ],
   "source": [
    "PC_values = np.arange(pca.n_components_) + 1\n",
    "plt.plot(PC_values, pca.explained_variance_ratio_, 'o-', linewidth=2, color='blue')\n",
    "plt.title('Scree Plot')\n",
    "plt.xlabel('Principal Component')\n",
    "plt.ylabel('Variance Explained')\n",
    "plt.show()"
   ]
  },
  {
   "cell_type": "code",
   "execution_count": 21,
   "id": "25fb9536",
   "metadata": {},
   "outputs": [],
   "source": [
    "## We have our 3 principal components. Now lets cluster using them.\n",
    "## Elbow Curve to determine optimal number of clusters."
   ]
  },
  {
   "cell_type": "code",
   "execution_count": 22,
   "id": "44307f00",
   "metadata": {},
   "outputs": [],
   "source": [
    "from sklearn.cluster import KMeans"
   ]
  },
  {
   "cell_type": "code",
   "execution_count": 23,
   "id": "878cabcc",
   "metadata": {},
   "outputs": [],
   "source": [
    "inertia = []\n",
    "range_of_clusters = list(range(2,16))\n",
    "for k in range_of_clusters:\n",
    "    kmeans = KMeans(n_clusters = k)\n",
    "    kmeans.fit(scores_df)\n",
    "    inertia.append(kmeans.inertia_)"
   ]
  },
  {
   "cell_type": "code",
   "execution_count": 24,
   "id": "43ede127",
   "metadata": {},
   "outputs": [
    {
     "data": {
      "image/png": "[encoded data removed]",
      "text/plain": [
       "<Figure size 720x288 with 1 Axes>"
      ]
     },
     "metadata": {
      "needs_background": "light"
     },
     "output_type": "display_data"
    }
   ],
   "source": [
    "plt.figure(figsize = (10,4))\n",
    "plt.plot (range_of_clusters, inertia)\n",
    "plt.xticks(range_of_clusters)\n",
    "plt.title('Elbow Curve')\n",
    "plt.show()"
   ]
  },
  {
   "cell_type": "code",
   "execution_count": 25,
   "id": "c1cd41c4",
   "metadata": {},
   "outputs": [],
   "source": [
    "## 4 is the elbow and therefore optimal"
   ]
  },
  {
   "cell_type": "code",
   "execution_count": 26,
   "id": "873cca87",
   "metadata": {},
   "outputs": [
    {
     "data": {
      "text/plain": [
       "KMeans(n_clusters=4)"
      ]
     },
     "execution_count": 26,
     "metadata": {},
     "output_type": "execute_result"
    }
   ],
   "source": [
    "kmeans = KMeans(n_clusters=4)\n",
    "kmeans.fit(scores_df)"
   ]
  },
  {
   "cell_type": "code",
   "execution_count": 27,
   "id": "986240c9",
   "metadata": {},
   "outputs": [
    {
     "name": "stdout",
     "output_type": "stream",
     "text": [
      "         PC1       PC2       PC3    Distillery  Cluster\n",
      "0  -0.655657  1.205646  0.166344     Aberfeldy        3\n",
      "1  -2.312631  3.747988 -1.366919      Aberlour        3\n",
      "2  -1.602153 -0.664082  0.297205        AnCnoc        0\n",
      "3   5.413633  0.244875 -1.210142        Ardbeg        1\n",
      "4   0.121649  0.412793  0.304462       Ardmore        2\n",
      "..       ...       ...       ...           ...      ...\n",
      "81 -0.742283 -1.867255 -0.447354     Tobermory        0\n",
      "82  0.266400  0.367942  1.014124       Tomatin        2\n",
      "83 -1.652609 -0.839780  0.123563     Tomintoul        0\n",
      "84  0.888804 -0.713645  2.996897       Tormore        2\n",
      "85  0.095250 -0.735940  0.117929  Tullibardine        2\n",
      "\n",
      "[86 rows x 5 columns]\n"
     ]
    }
   ],
   "source": [
    "df_kmeans = df_scores.copy()\n",
    "df_kmeans['Cluster'] = kmeans.labels_\n",
    "print(df_kmeans)"
   ]
  },
  {
   "cell_type": "code",
   "execution_count": 28,
   "id": "366a15e4",
   "metadata": {},
   "outputs": [],
   "source": [
    "## 3d scatterplot"
   ]
  },
  {
   "cell_type": "code",
   "execution_count": 29,
   "id": "4449b548",
   "metadata": {},
   "outputs": [],
   "source": [
    "from mpl_toolkits import mplot3d"
   ]
  },
  {
   "cell_type": "code",
   "execution_count": 30,
   "id": "1a591fad",
   "metadata": {},
   "outputs": [],
   "source": [
    "x = df_kmeans['PC2']\n",
    "y = df_kmeans['PC1']\n",
    "z = df_kmeans['PC3']"
   ]
  },
  {
   "cell_type": "code",
   "execution_count": 31,
   "id": "227eda05",
   "metadata": {},
   "outputs": [
    {
     "data": {
      "text/plain": [
       "Text(0.5, 0.92, '3d Scatter plot by principal components')"
      ]
     },
     "execution_count": 31,
     "metadata": {},
     "output_type": "execute_result"
    },
    {
     "data": {
      "image/png": "[encoded data removed]",
      "text/plain": [
       "<Figure size 720x504 with 1 Axes>"
      ]
     },
     "metadata": {
      "needs_background": "light"
     },
     "output_type": "display_data"
    }
   ],
   "source": [
    "fig = plt.figure(figsize = (10, 7))\n",
    "ax = plt.axes(projection =\"3d\")\n",
    "ax.scatter3D(x, y, z, color = \"green\")\n",
    "plt.title(\"3d Scatter plot by principal components\")\n"
   ]
  },
  {
   "cell_type": "code",
   "execution_count": 32,
   "id": "603a0834",
   "metadata": {},
   "outputs": [],
   "source": [
    "df_kmeans.to_csv('scotch_v2_final.csv')"
   ]
  }
 ],
 "metadata": {
  "kernelspec": {
   "display_name": "Python 3 (ipykernel)",
   "language": "python",
   "name": "python3"
  },
  "language_info": {
   "codemirror_mode": {
    "name": "ipython",
    "version": 3
   },
   "file_extension": ".py",
   "mimetype": "text/x-python",
   "name": "python",
   "nbconvert_exporter": "python",
   "pygments_lexer": "ipython3",
   "version": "3.9.7"
  }
 },
 "nbformat": 4,
 "nbformat_minor": 5
}
